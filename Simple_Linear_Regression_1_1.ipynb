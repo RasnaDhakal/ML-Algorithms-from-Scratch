{
  "nbformat": 4,
  "nbformat_minor": 0,
  "metadata": {
    "colab": {
      "provenance": [],
      "mount_file_id": "1lemkwrdyLCWzNmH3ueGkZsHTghrsVUxI",
      "authorship_tag": "ABX9TyON62NG+f6d4QdUfRaCZypL",
      "include_colab_link": true
    },
    "kernelspec": {
      "name": "python3",
      "display_name": "Python 3"
    },
    "language_info": {
      "name": "python"
    }
  },
  "cells": [
    {
      "cell_type": "markdown",
      "metadata": {
        "id": "view-in-github",
        "colab_type": "text"
      },
      "source": [
        "<a href=\"https://colab.research.google.com/github/RasnaDhakal/ML-Algorithms-from-Scratch/blob/main/Simple_Linear_Regression_1_1.ipynb\" target=\"_parent\"><img src=\"https://colab.research.google.com/assets/colab-badge.svg\" alt=\"Open In Colab\"/></a>"
      ]
    },
    {
      "cell_type": "code",
      "execution_count": null,
      "metadata": {
        "id": "sSiyv1OvkFpJ"
      },
      "outputs": [],
      "source": [
        "import numpy as np"
      ]
    },
    {
      "cell_type": "code",
      "source": [
        "import pandas as pd"
      ],
      "metadata": {
        "id": "nHAyqdA3kLLh"
      },
      "execution_count": null,
      "outputs": []
    },
    {
      "cell_type": "code",
      "source": [
        "df=pd.read_csv(\"/content/drive/MyDrive/DSMP/Machine Learning/1. LiR/placement.csv\")\n",
        "df.head()"
      ],
      "metadata": {
        "colab": {
          "base_uri": "https://localhost:8080/",
          "height": 206
        },
        "id": "KoxBBGwZkMvi",
        "outputId": "0ec9c3eb-b374-41de-affe-73c4534b758a"
      },
      "execution_count": 26,
      "outputs": [
        {
          "output_type": "execute_result",
          "data": {
            "text/plain": [
              "   cgpa  package\n",
              "0  6.89     3.26\n",
              "1  5.12     1.98\n",
              "2  7.82     3.25\n",
              "3  7.42     3.67\n",
              "4  6.94     3.57"
            ],
            "text/html": [
              "\n",
              "  <div id=\"df-eae5b1cc-43f1-4930-b9e7-6474ad98b49d\" class=\"colab-df-container\">\n",
              "    <div>\n",
              "<style scoped>\n",
              "    .dataframe tbody tr th:only-of-type {\n",
              "        vertical-align: middle;\n",
              "    }\n",
              "\n",
              "    .dataframe tbody tr th {\n",
              "        vertical-align: top;\n",
              "    }\n",
              "\n",
              "    .dataframe thead th {\n",
              "        text-align: right;\n",
              "    }\n",
              "</style>\n",
              "<table border=\"1\" class=\"dataframe\">\n",
              "  <thead>\n",
              "    <tr style=\"text-align: right;\">\n",
              "      <th></th>\n",
              "      <th>cgpa</th>\n",
              "      <th>package</th>\n",
              "    </tr>\n",
              "  </thead>\n",
              "  <tbody>\n",
              "    <tr>\n",
              "      <th>0</th>\n",
              "      <td>6.89</td>\n",
              "      <td>3.26</td>\n",
              "    </tr>\n",
              "    <tr>\n",
              "      <th>1</th>\n",
              "      <td>5.12</td>\n",
              "      <td>1.98</td>\n",
              "    </tr>\n",
              "    <tr>\n",
              "      <th>2</th>\n",
              "      <td>7.82</td>\n",
              "      <td>3.25</td>\n",
              "    </tr>\n",
              "    <tr>\n",
              "      <th>3</th>\n",
              "      <td>7.42</td>\n",
              "      <td>3.67</td>\n",
              "    </tr>\n",
              "    <tr>\n",
              "      <th>4</th>\n",
              "      <td>6.94</td>\n",
              "      <td>3.57</td>\n",
              "    </tr>\n",
              "  </tbody>\n",
              "</table>\n",
              "</div>\n",
              "    <div class=\"colab-df-buttons\">\n",
              "\n",
              "  <div class=\"colab-df-container\">\n",
              "    <button class=\"colab-df-convert\" onclick=\"convertToInteractive('df-eae5b1cc-43f1-4930-b9e7-6474ad98b49d')\"\n",
              "            title=\"Convert this dataframe to an interactive table.\"\n",
              "            style=\"display:none;\">\n",
              "\n",
              "  <svg xmlns=\"http://www.w3.org/2000/svg\" height=\"24px\" viewBox=\"0 -960 960 960\">\n",
              "    <path d=\"M120-120v-720h720v720H120Zm60-500h600v-160H180v160Zm220 220h160v-160H400v160Zm0 220h160v-160H400v160ZM180-400h160v-160H180v160Zm440 0h160v-160H620v160ZM180-180h160v-160H180v160Zm440 0h160v-160H620v160Z\"/>\n",
              "  </svg>\n",
              "    </button>\n",
              "\n",
              "  <style>\n",
              "    .colab-df-container {\n",
              "      display:flex;\n",
              "      gap: 12px;\n",
              "    }\n",
              "\n",
              "    .colab-df-convert {\n",
              "      background-color: #E8F0FE;\n",
              "      border: none;\n",
              "      border-radius: 50%;\n",
              "      cursor: pointer;\n",
              "      display: none;\n",
              "      fill: #1967D2;\n",
              "      height: 32px;\n",
              "      padding: 0 0 0 0;\n",
              "      width: 32px;\n",
              "    }\n",
              "\n",
              "    .colab-df-convert:hover {\n",
              "      background-color: #E2EBFA;\n",
              "      box-shadow: 0px 1px 2px rgba(60, 64, 67, 0.3), 0px 1px 3px 1px rgba(60, 64, 67, 0.15);\n",
              "      fill: #174EA6;\n",
              "    }\n",
              "\n",
              "    .colab-df-buttons div {\n",
              "      margin-bottom: 4px;\n",
              "    }\n",
              "\n",
              "    [theme=dark] .colab-df-convert {\n",
              "      background-color: #3B4455;\n",
              "      fill: #D2E3FC;\n",
              "    }\n",
              "\n",
              "    [theme=dark] .colab-df-convert:hover {\n",
              "      background-color: #434B5C;\n",
              "      box-shadow: 0px 1px 3px 1px rgba(0, 0, 0, 0.15);\n",
              "      filter: drop-shadow(0px 1px 2px rgba(0, 0, 0, 0.3));\n",
              "      fill: #FFFFFF;\n",
              "    }\n",
              "  </style>\n",
              "\n",
              "    <script>\n",
              "      const buttonEl =\n",
              "        document.querySelector('#df-eae5b1cc-43f1-4930-b9e7-6474ad98b49d button.colab-df-convert');\n",
              "      buttonEl.style.display =\n",
              "        google.colab.kernel.accessAllowed ? 'block' : 'none';\n",
              "\n",
              "      async function convertToInteractive(key) {\n",
              "        const element = document.querySelector('#df-eae5b1cc-43f1-4930-b9e7-6474ad98b49d');\n",
              "        const dataTable =\n",
              "          await google.colab.kernel.invokeFunction('convertToInteractive',\n",
              "                                                    [key], {});\n",
              "        if (!dataTable) return;\n",
              "\n",
              "        const docLinkHtml = 'Like what you see? Visit the ' +\n",
              "          '<a target=\"_blank\" href=https://colab.research.google.com/notebooks/data_table.ipynb>data table notebook</a>'\n",
              "          + ' to learn more about interactive tables.';\n",
              "        element.innerHTML = '';\n",
              "        dataTable['output_type'] = 'display_data';\n",
              "        await google.colab.output.renderOutput(dataTable, element);\n",
              "        const docLink = document.createElement('div');\n",
              "        docLink.innerHTML = docLinkHtml;\n",
              "        element.appendChild(docLink);\n",
              "      }\n",
              "    </script>\n",
              "  </div>\n",
              "\n",
              "\n",
              "<div id=\"df-aa22131a-cb4a-485c-a414-2dfa49ed8882\">\n",
              "  <button class=\"colab-df-quickchart\" onclick=\"quickchart('df-aa22131a-cb4a-485c-a414-2dfa49ed8882')\"\n",
              "            title=\"Suggest charts\"\n",
              "            style=\"display:none;\">\n",
              "\n",
              "<svg xmlns=\"http://www.w3.org/2000/svg\" height=\"24px\"viewBox=\"0 0 24 24\"\n",
              "     width=\"24px\">\n",
              "    <g>\n",
              "        <path d=\"M19 3H5c-1.1 0-2 .9-2 2v14c0 1.1.9 2 2 2h14c1.1 0 2-.9 2-2V5c0-1.1-.9-2-2-2zM9 17H7v-7h2v7zm4 0h-2V7h2v10zm4 0h-2v-4h2v4z\"/>\n",
              "    </g>\n",
              "</svg>\n",
              "  </button>\n",
              "\n",
              "<style>\n",
              "  .colab-df-quickchart {\n",
              "      --bg-color: #E8F0FE;\n",
              "      --fill-color: #1967D2;\n",
              "      --hover-bg-color: #E2EBFA;\n",
              "      --hover-fill-color: #174EA6;\n",
              "      --disabled-fill-color: #AAA;\n",
              "      --disabled-bg-color: #DDD;\n",
              "  }\n",
              "\n",
              "  [theme=dark] .colab-df-quickchart {\n",
              "      --bg-color: #3B4455;\n",
              "      --fill-color: #D2E3FC;\n",
              "      --hover-bg-color: #434B5C;\n",
              "      --hover-fill-color: #FFFFFF;\n",
              "      --disabled-bg-color: #3B4455;\n",
              "      --disabled-fill-color: #666;\n",
              "  }\n",
              "\n",
              "  .colab-df-quickchart {\n",
              "    background-color: var(--bg-color);\n",
              "    border: none;\n",
              "    border-radius: 50%;\n",
              "    cursor: pointer;\n",
              "    display: none;\n",
              "    fill: var(--fill-color);\n",
              "    height: 32px;\n",
              "    padding: 0;\n",
              "    width: 32px;\n",
              "  }\n",
              "\n",
              "  .colab-df-quickchart:hover {\n",
              "    background-color: var(--hover-bg-color);\n",
              "    box-shadow: 0 1px 2px rgba(60, 64, 67, 0.3), 0 1px 3px 1px rgba(60, 64, 67, 0.15);\n",
              "    fill: var(--button-hover-fill-color);\n",
              "  }\n",
              "\n",
              "  .colab-df-quickchart-complete:disabled,\n",
              "  .colab-df-quickchart-complete:disabled:hover {\n",
              "    background-color: var(--disabled-bg-color);\n",
              "    fill: var(--disabled-fill-color);\n",
              "    box-shadow: none;\n",
              "  }\n",
              "\n",
              "  .colab-df-spinner {\n",
              "    border: 2px solid var(--fill-color);\n",
              "    border-color: transparent;\n",
              "    border-bottom-color: var(--fill-color);\n",
              "    animation:\n",
              "      spin 1s steps(1) infinite;\n",
              "  }\n",
              "\n",
              "  @keyframes spin {\n",
              "    0% {\n",
              "      border-color: transparent;\n",
              "      border-bottom-color: var(--fill-color);\n",
              "      border-left-color: var(--fill-color);\n",
              "    }\n",
              "    20% {\n",
              "      border-color: transparent;\n",
              "      border-left-color: var(--fill-color);\n",
              "      border-top-color: var(--fill-color);\n",
              "    }\n",
              "    30% {\n",
              "      border-color: transparent;\n",
              "      border-left-color: var(--fill-color);\n",
              "      border-top-color: var(--fill-color);\n",
              "      border-right-color: var(--fill-color);\n",
              "    }\n",
              "    40% {\n",
              "      border-color: transparent;\n",
              "      border-right-color: var(--fill-color);\n",
              "      border-top-color: var(--fill-color);\n",
              "    }\n",
              "    60% {\n",
              "      border-color: transparent;\n",
              "      border-right-color: var(--fill-color);\n",
              "    }\n",
              "    80% {\n",
              "      border-color: transparent;\n",
              "      border-right-color: var(--fill-color);\n",
              "      border-bottom-color: var(--fill-color);\n",
              "    }\n",
              "    90% {\n",
              "      border-color: transparent;\n",
              "      border-bottom-color: var(--fill-color);\n",
              "    }\n",
              "  }\n",
              "</style>\n",
              "\n",
              "  <script>\n",
              "    async function quickchart(key) {\n",
              "      const quickchartButtonEl =\n",
              "        document.querySelector('#' + key + ' button');\n",
              "      quickchartButtonEl.disabled = true;  // To prevent multiple clicks.\n",
              "      quickchartButtonEl.classList.add('colab-df-spinner');\n",
              "      try {\n",
              "        const charts = await google.colab.kernel.invokeFunction(\n",
              "            'suggestCharts', [key], {});\n",
              "      } catch (error) {\n",
              "        console.error('Error during call to suggestCharts:', error);\n",
              "      }\n",
              "      quickchartButtonEl.classList.remove('colab-df-spinner');\n",
              "      quickchartButtonEl.classList.add('colab-df-quickchart-complete');\n",
              "    }\n",
              "    (() => {\n",
              "      let quickchartButtonEl =\n",
              "        document.querySelector('#df-aa22131a-cb4a-485c-a414-2dfa49ed8882 button');\n",
              "      quickchartButtonEl.style.display =\n",
              "        google.colab.kernel.accessAllowed ? 'block' : 'none';\n",
              "    })();\n",
              "  </script>\n",
              "</div>\n",
              "\n",
              "    </div>\n",
              "  </div>\n"
            ],
            "application/vnd.google.colaboratory.intrinsic+json": {
              "type": "dataframe",
              "variable_name": "df",
              "summary": "{\n  \"name\": \"df\",\n  \"rows\": 200,\n  \"fields\": [\n    {\n      \"column\": \"cgpa\",\n      \"properties\": {\n        \"dtype\": \"number\",\n        \"std\": 1.0694086798895523,\n        \"min\": 4.26,\n        \"max\": 9.58,\n        \"num_unique_values\": 163,\n        \"samples\": [\n          8.71,\n          6.37,\n          7.94\n        ],\n        \"semantic_type\": \"\",\n        \"description\": \"\"\n      }\n    },\n    {\n      \"column\": \"package\",\n      \"properties\": {\n        \"dtype\": \"number\",\n        \"std\": 0.6916442411250219,\n        \"min\": 1.37,\n        \"max\": 4.62,\n        \"num_unique_values\": 138,\n        \"samples\": [\n          3.76,\n          3.13,\n          2.89\n        ],\n        \"semantic_type\": \"\",\n        \"description\": \"\"\n      }\n    }\n  ]\n}"
            }
          },
          "metadata": {},
          "execution_count": 26
        }
      ]
    },
    {
      "cell_type": "code",
      "source": [
        "\n",
        "#X=df.iloc[:,0]\n",
        "#y=df.iloc[:,1]"
      ],
      "metadata": {
        "id": "CsXP_y-Vr_Qg"
      },
      "execution_count": 27,
      "outputs": []
    },
    {
      "cell_type": "code",
      "source": [
        "#X"
      ],
      "metadata": {
        "id": "d8S6UbXusDNR"
      },
      "execution_count": 28,
      "outputs": []
    },
    {
      "cell_type": "code",
      "source": [
        "X=df.iloc[:,0].values\n",
        "y=df.iloc[:,1].values"
      ],
      "metadata": {
        "id": "Mi6d2i0_rmg8"
      },
      "execution_count": 29,
      "outputs": []
    },
    {
      "cell_type": "code",
      "source": [
        "X"
      ],
      "metadata": {
        "colab": {
          "base_uri": "https://localhost:8080/"
        },
        "id": "JmHNkNKrrmlK",
        "outputId": "5fafc5e9-fd17-40f0-aa4d-89717a0f1ad7"
      },
      "execution_count": 30,
      "outputs": [
        {
          "output_type": "execute_result",
          "data": {
            "text/plain": [
              "array([6.89, 5.12, 7.82, 7.42, 6.94, 7.89, 6.73, 6.75, 6.09, 8.31, 5.32,\n",
              "       6.61, 8.94, 6.93, 7.73, 7.25, 6.84, 5.38, 6.94, 7.48, 7.28, 6.85,\n",
              "       6.14, 6.19, 6.53, 7.28, 8.31, 5.42, 5.94, 7.15, 7.36, 8.1 , 6.96,\n",
              "       6.35, 7.34, 6.87, 5.99, 5.9 , 8.62, 7.43, 9.38, 6.89, 5.95, 7.66,\n",
              "       5.09, 7.87, 6.07, 5.84, 8.63, 8.87, 9.58, 9.26, 8.37, 6.47, 6.86,\n",
              "       8.2 , 5.84, 6.6 , 6.92, 7.56, 5.61, 5.48, 6.34, 9.16, 7.36, 7.6 ,\n",
              "       5.11, 6.51, 7.56, 7.3 , 5.79, 7.47, 7.78, 8.44, 6.85, 6.97, 6.94,\n",
              "       8.99, 6.59, 7.18, 7.63, 6.1 , 5.58, 8.44, 4.26, 4.79, 7.61, 8.09,\n",
              "       4.73, 6.42, 7.11, 6.22, 7.9 , 6.79, 5.83, 6.63, 7.11, 5.98, 7.69,\n",
              "       6.61, 7.95, 6.71, 5.13, 7.05, 7.62, 6.66, 6.13, 6.33, 7.76, 7.77,\n",
              "       8.18, 5.42, 8.58, 6.94, 5.84, 8.35, 9.04, 7.12, 7.4 , 7.39, 5.23,\n",
              "       6.5 , 5.12, 5.1 , 6.06, 7.33, 5.91, 6.78, 7.93, 7.29, 6.68, 6.37,\n",
              "       5.84, 6.05, 7.2 , 6.1 , 5.64, 7.14, 7.91, 7.19, 7.91, 6.76, 6.93,\n",
              "       4.85, 6.17, 5.84, 6.07, 5.66, 7.57, 8.28, 6.3 , 6.12, 7.37, 7.94,\n",
              "       7.08, 6.98, 7.38, 6.47, 5.95, 8.71, 7.13, 7.3 , 5.53, 8.93, 9.06,\n",
              "       8.21, 8.6 , 8.13, 8.65, 9.31, 6.22, 8.01, 6.93, 6.75, 7.32, 7.04,\n",
              "       6.29, 7.09, 8.15, 7.14, 6.19, 8.22, 5.88, 7.28, 7.88, 6.31, 7.84,\n",
              "       6.26, 7.35, 8.11, 6.19, 7.28, 8.25, 4.57, 7.89, 6.93, 5.89, 7.21,\n",
              "       7.63, 6.22])"
            ]
          },
          "metadata": {},
          "execution_count": 30
        }
      ]
    },
    {
      "cell_type": "code",
      "source": [
        "from sklearn.model_selection import train_test_split"
      ],
      "metadata": {
        "id": "ce3Ovy1ssIre"
      },
      "execution_count": 31,
      "outputs": []
    },
    {
      "cell_type": "code",
      "source": [
        "X_train,X_test,y_train,y_test=train_test_split(X,y,test_size=0.2,random_state=2)"
      ],
      "metadata": {
        "id": "OeL84JGdsIwA"
      },
      "execution_count": 32,
      "outputs": []
    },
    {
      "cell_type": "code",
      "source": [
        "X_train.shape"
      ],
      "metadata": {
        "colab": {
          "base_uri": "https://localhost:8080/"
        },
        "id": "FgsqRpdmsI0J",
        "outputId": "f407d891-8530-434a-aa86-91dc76a2d7fa"
      },
      "execution_count": 33,
      "outputs": [
        {
          "output_type": "execute_result",
          "data": {
            "text/plain": [
              "(160,)"
            ]
          },
          "metadata": {},
          "execution_count": 33
        }
      ]
    },
    {
      "cell_type": "code",
      "source": [
        "X_train.shape[0]"
      ],
      "metadata": {
        "colab": {
          "base_uri": "https://localhost:8080/"
        },
        "id": "I2iFvOX8sI6O",
        "outputId": "e1eb2053-d2d4-4fff-c6f8-dc08b6c6ab82"
      },
      "execution_count": 34,
      "outputs": [
        {
          "output_type": "execute_result",
          "data": {
            "text/plain": [
              "160"
            ]
          },
          "metadata": {},
          "execution_count": 34
        }
      ]
    },
    {
      "cell_type": "code",
      "source": [
        "class MyLiR:\n",
        "\n",
        "  def __init__(self):\n",
        "    self.m=None\n",
        "    self.b=None\n",
        "\n",
        "  def fit(self, X_train,y_train):\n",
        "    num=0\n",
        "    den=0\n",
        "\n",
        "    for i in range(X_train.shape[0]):\n",
        "      num=num+((X_train[i]-X_train.mean())*(y_train[i]-y_train.mean()))\n",
        "      den=den+((X_train[i]-X_train.mean())*(X_train[i]-X_train.mean()))\n",
        "      self.m=num/den\n",
        "      self.b=y_train.mean()-(self.m*X_train.mean())\n",
        "      print(self.m)\n",
        "      print(self.b)\n",
        "\n",
        "  def predict(self, X_test):\n",
        "    return self.m*X_test+self.b\n",
        "\n"
      ],
      "metadata": {
        "id": "3sY7i7QMkV4A"
      },
      "execution_count": 37,
      "outputs": []
    },
    {
      "cell_type": "code",
      "source": [
        "lr=MyLiR()\n",
        "lr.fit(X_train,y_train)"
      ],
      "metadata": {
        "colab": {
          "base_uri": "https://localhost:8080/"
        },
        "id": "1g9sKOGxpKYU",
        "outputId": "37729752-ea9e-423f-814c-5f1d51ea7b24"
      },
      "execution_count": 38,
      "outputs": [
        {
          "output_type": "stream",
          "name": "stdout",
          "text": [
            "0.8400666389004626\n",
            "-2.8680758017493027\n",
            "0.46924606814696196\n",
            "-0.2760631884680049\n",
            "0.4735784832135009\n",
            "-0.3063464990071707\n",
            "0.4368114508414633\n",
            "-0.04934724066615104\n",
            "0.4903032804315722\n",
            "-0.42325178626166293\n",
            "0.4839693968140894\n",
            "-0.3789783356431844\n",
            "0.48640320794067066\n",
            "-0.3959905233047918\n",
            "0.49703213346001257\n",
            "-0.47028604837714694\n",
            "0.4719939239065887\n",
            "-0.2952705284868111\n",
            "0.4397481783518019\n",
            "-0.06987478241794864\n",
            "0.47590917171947894\n",
            "-0.3226378659959255\n",
            "0.5163397239276872\n",
            "-0.6052448990217885\n",
            "0.521190861769847\n",
            "-0.6391540493423702\n",
            "0.529161602582466\n",
            "-0.6948690294512763\n",
            "0.5305281218210268\n",
            "-0.7044209135213642\n",
            "0.529922374981655\n",
            "-0.7001867809733322\n",
            "0.5639383415253931\n",
            "-0.9379562611161529\n",
            "0.5716752372889344\n",
            "-0.9920366789473216\n",
            "0.5729455718328632\n",
            "-1.0009162380134748\n",
            "0.5740242768181008\n",
            "-1.0084563184412234\n",
            "0.5814518869758193\n",
            "-1.0603748492180411\n",
            "0.5765851988353474\n",
            "-1.0263570032841516\n",
            "0.5726511703244137\n",
            "-0.9988583898695067\n",
            "0.5674090514441672\n",
            "-0.9622163065290139\n",
            "0.5710666030961015\n",
            "-0.9877823639790559\n",
            "0.5722783622204375\n",
            "-0.9962524845232199\n",
            "0.562582002219988\n",
            "-0.9284755341425774\n",
            "0.570692312024899\n",
            "-0.9851660927845427\n",
            "0.5727817823225025\n",
            "-0.9997713595728976\n",
            "0.5854696028595895\n",
            "-1.088458432138352\n",
            "0.5818557901185937\n",
            "-1.063198106942088\n",
            "0.5833111054277215\n",
            "-1.0733706699956844\n",
            "0.5834634220735045\n",
            "-1.0744353538299176\n",
            "0.5829706749626312\n",
            "-1.0709910823216076\n",
            "0.580381104834398\n",
            "-1.0528901489733897\n",
            "0.5754908361407809\n",
            "-1.0187074764468003\n",
            "0.5760226652799657\n",
            "-1.0224249288903806\n",
            "0.5740815220653014\n",
            "-1.0088564591413283\n",
            "0.5736594733312338\n",
            "-1.005906364868241\n",
            "0.5727444997177743\n",
            "-0.9995107564960106\n",
            "0.5735512565214083\n",
            "-1.0051499361311116\n",
            "0.5659837195621282\n",
            "-0.952253325756804\n",
            "0.5692888111448013\n",
            "-0.9753557093514651\n",
            "0.5691273715208224\n",
            "-0.9742272564698289\n",
            "0.5754863602024883\n",
            "-1.0186761899178807\n",
            "0.5749228814454683\n",
            "-1.0147375086237336\n",
            "0.5733373822749022\n",
            "-1.0036549685151739\n",
            "0.573389401710159\n",
            "-1.0040185811164042\n",
            "0.5784418037544201\n",
            "-1.0393345556306626\n",
            "0.5759321960974765\n",
            "-1.021792554959105\n",
            "0.5758782315723413\n",
            "-1.0214153463011924\n",
            "0.564905084800643\n",
            "-0.944713736188695\n",
            "0.5642954425265931\n",
            "-0.9404523747957283\n",
            "0.5642260118970169\n",
            "-0.9399670590344051\n",
            "0.5787632456005588\n",
            "-1.0415814140450568\n",
            "0.5790036739330503\n",
            "-1.0432619930624014\n",
            "0.5787158036397012\n",
            "-1.0412497977037845\n",
            "0.5782895052731107\n",
            "-1.0382699987649646\n",
            "0.5780898861135094\n",
            "-1.0368746733155492\n",
            "0.5812134819093243\n",
            "-1.0587084127035578\n",
            "0.5888370983379898\n",
            "-1.1119970150639027\n",
            "0.5881509190690987\n",
            "-1.1072006648605583\n",
            "0.586097681632668\n",
            "-1.0928486635072474\n",
            "0.5873587817857442\n",
            "-1.1016636747584903\n",
            "0.5868095216524638\n",
            "-1.0978243807556192\n",
            "0.583552400558015\n",
            "-1.0750573078754906\n",
            "0.5835372234800723\n",
            "-1.074951221049238\n",
            "0.5782083025647902\n",
            "-1.0377023969089736\n",
            "0.5793782135576618\n",
            "-1.0458800016297092\n",
            "0.5786261689201331\n",
            "-1.0406232566161728\n",
            "0.5830132094776194\n",
            "-1.0712883959229673\n",
            "0.5806505035644284\n",
            "-1.054773229258882\n",
            "0.5864351804446475\n",
            "-1.0952077591093081\n",
            "0.5867421025380237\n",
            "-1.0973531253593771\n",
            "0.5857972748289866\n",
            "-1.0907488387249398\n",
            "0.5841985090514421\n",
            "-1.0795735658627645\n",
            "0.5847784610779861\n",
            "-1.0836273942813062\n",
            "0.5858743386640911\n",
            "-1.0912875101158308\n",
            "0.5829570986887135\n",
            "-1.0708961850154397\n",
            "0.5816569839651593\n",
            "-1.0618084643549661\n",
            "0.5810405353225045\n",
            "-1.0574995268708491\n",
            "0.5775594098875928\n",
            "-1.033166677651156\n",
            "0.5775566281674466\n",
            "-1.0331472336011913\n",
            "0.5728012960227838\n",
            "-0.9999077591182584\n",
            "0.5706771193733013\n",
            "-0.9850598970994158\n",
            "0.5705323299405108\n",
            "-0.9840478280135496\n",
            "0.5624555645927625\n",
            "-0.9275917430306229\n",
            "0.5615441343398647\n",
            "-0.9212209025272586\n",
            "0.5700779272610367\n",
            "-0.9808715816841929\n",
            "0.5727877976156044\n",
            "-0.9998134060957238\n",
            "0.5708018975431387\n",
            "-0.9859320887079432\n",
            "0.5706325320866256\n",
            "-0.9847482347522578\n",
            "0.5660828996349045\n",
            "-0.952946588266756\n",
            "0.5638572747640541\n",
            "-0.9373896095210656\n",
            "0.5602304134215157\n",
            "-0.9120380754155564\n",
            "0.5600133992478427\n",
            "-0.9105211599049676\n",
            "0.5605641564332338\n",
            "-0.9143709182085273\n",
            "0.5613095838083031\n",
            "-0.9195814089710508\n",
            "0.5541687907362803\n",
            "-0.8696677116971787\n",
            "0.5573212467224931\n",
            "-0.8917031820123067\n",
            "0.5572421565841695\n",
            "-0.8911503468885589\n",
            "0.5611612834834483\n",
            "-0.9185447989690863\n",
            "0.5573492486222986\n",
            "-0.8918989135418287\n",
            "0.5573245547008776\n",
            "-0.8917263045744659\n",
            "0.5575966855373325\n",
            "-0.8936284821131086\n",
            "0.5571046474405528\n",
            "-0.8901891665689989\n",
            "0.5530318532962116\n",
            "-0.8617205900496887\n",
            "0.5540366081596543\n",
            "-0.8687437637479736\n",
            "0.5540398483136427\n",
            "-0.8687664122218433\n",
            "0.5567717438998061\n",
            "-0.887862191625651\n",
            "0.5566767313501828\n",
            "-0.8871980598420688\n",
            "0.5560364929623146\n",
            "-0.8827228335257691\n",
            "0.5578047190282255\n",
            "-0.8950826232123572\n",
            "0.5577971333379541\n",
            "-0.8950295997114659\n",
            "0.5609812710123344\n",
            "-0.9172865230467795\n",
            "0.5626007734327115\n",
            "-0.9286067437463146\n",
            "0.5628828679932267\n",
            "-0.9305785670934057\n",
            "0.5712081864057994\n",
            "-0.9887720224648877\n",
            "0.5710773438560987\n",
            "-0.9878574412201391\n",
            "0.5698847001799233\n",
            "-0.9795209364639033\n",
            "0.5689239151588804\n",
            "-0.9728051092158769\n",
            "0.5721654858033274\n",
            "-0.995463485422396\n",
            "0.5724916995889021\n",
            "-0.997743699395202\n",
            "0.5696961191536388\n",
            "-0.9782027668764885\n",
            "0.5686461538266548\n",
            "-0.9708635748637033\n",
            "0.5720238244544463\n",
            "-0.9944732814475516\n",
            "0.573456063818959\n",
            "-1.004484545090535\n",
            "0.5770103902380442\n",
            "-1.0293290646145392\n",
            "0.5764912426412888\n",
            "-1.0257002553599444\n",
            "0.575953585853988\n",
            "-1.0219420680202607\n",
            "0.5750535976920649\n",
            "-1.0156512070176777\n",
            "0.5749928402101333\n",
            "-1.0152265160163187\n",
            "0.5745800787219845\n",
            "-1.0123413390117513\n",
            "0.5791867057813171\n",
            "-1.0445413742422955\n",
            "0.5791710357335985\n",
            "-1.0444318415881204\n",
            "0.5713566439248169\n",
            "-0.9898097312442249\n",
            "0.5715146569867965\n",
            "-0.990914232671646\n",
            "0.5699903743415287\n",
            "-0.9802595922488893\n",
            "0.5697983538961613\n",
            "-0.9789173813370491\n",
            "0.5765539242518761\n",
            "-1.0261383959003485\n",
            "0.5761158147103428\n",
            "-1.0230760375868773\n",
            "0.5757492969387995\n",
            "-1.02051410127115\n",
            "0.5651202698199169\n",
            "-0.9462178660243556\n",
            "0.5660658257667609\n",
            "-0.9528272429955487\n",
            "0.5663024736072998\n",
            "-0.9544813966104253\n",
            "0.5680116151652487\n",
            "-0.9664281892791409\n",
            "0.568181297143231\n",
            "-0.9676142557001133\n",
            "0.5621442518997677\n",
            "-0.9254156867636327\n",
            "0.5629722119233737\n",
            "-0.9312030755811369\n",
            "0.5629955700370214\n",
            "-0.9313663473356524\n",
            "0.5633286123028332\n",
            "-0.9336942919585351\n",
            "0.560277359125129\n",
            "-0.9123662229497067\n",
            "0.5608072569951196\n",
            "-0.9160701759423238\n",
            "0.5621714223902377\n",
            "-0.9256056067938623\n",
            "0.562139020920621\n",
            "-0.9253791225463335\n",
            "0.559792459343039\n",
            "-0.9089768037791339\n",
            "0.5608822408651175\n",
            "-0.9165943085071175\n",
            "0.5616473902406549\n",
            "-0.9219426548202883\n",
            "0.5617638595456358\n",
            "-0.9227567679827731\n",
            "0.5579519734250721\n",
            "-0.8961119222429152\n"
          ]
        }
      ]
    },
    {
      "cell_type": "code",
      "source": [
        "X_train[0]"
      ],
      "metadata": {
        "colab": {
          "base_uri": "https://localhost:8080/"
        },
        "id": "PpPvpvJ5uEnq",
        "outputId": "cb7d1c50-e8a0-4635-cb03-ebd78fcb92c8"
      },
      "execution_count": 39,
      "outputs": [
        {
          "output_type": "execute_result",
          "data": {
            "text/plain": [
              "7.14"
            ]
          },
          "metadata": {},
          "execution_count": 39
        }
      ]
    },
    {
      "cell_type": "code",
      "source": [
        "X_train.mean()"
      ],
      "metadata": {
        "colab": {
          "base_uri": "https://localhost:8080/"
        },
        "id": "-LJd5g5rs4g2",
        "outputId": "fa90d8f7-161c-46c2-a2a8-9169310ac780"
      },
      "execution_count": 40,
      "outputs": [
        {
          "output_type": "execute_result",
          "data": {
            "text/plain": [
              "6.989937500000001"
            ]
          },
          "metadata": {},
          "execution_count": 40
        }
      ]
    },
    {
      "cell_type": "code",
      "source": [
        "X_test[0]"
      ],
      "metadata": {
        "colab": {
          "base_uri": "https://localhost:8080/"
        },
        "id": "fB8R1GbXuPct",
        "outputId": "e1da6a7c-58ec-4f7c-9d4f-7f1db4c30af5"
      },
      "execution_count": 41,
      "outputs": [
        {
          "output_type": "execute_result",
          "data": {
            "text/plain": [
              "8.58"
            ]
          },
          "metadata": {},
          "execution_count": 41
        }
      ]
    },
    {
      "cell_type": "code",
      "source": [
        "print(lr.predict(X_test[0]))"
      ],
      "metadata": {
        "colab": {
          "base_uri": "https://localhost:8080/"
        },
        "id": "k_bnVW-wuTJ-",
        "outputId": "5b824fd9-9475-4a59-a9dd-0485ea49ef66"
      },
      "execution_count": 42,
      "outputs": [
        {
          "output_type": "stream",
          "name": "stdout",
          "text": [
            "3.891116009744203\n"
          ]
        }
      ]
    },
    {
      "cell_type": "code",
      "source": [
        "#applied code"
      ],
      "metadata": {
        "id": "N7LRDWjVuTRt"
      },
      "execution_count": null,
      "outputs": []
    },
    {
      "cell_type": "code",
      "source": [
        "from sklearn.linear_model import LinearRegression\n",
        "lr=LinearRegression()\n",
        "lr.fit(X_train.reshape(-1,1),y_train)\n",
        "LinearRegression"
      ],
      "metadata": {
        "colab": {
          "base_uri": "https://localhost:8080/",
          "height": 186
        },
        "id": "IgLYGePuu_-V",
        "outputId": "e76c7bfc-f11a-4b84-8d92-9024e0ee6191"
      },
      "execution_count": 45,
      "outputs": [
        {
          "output_type": "execute_result",
          "data": {
            "text/plain": [
              "sklearn.linear_model._base.LinearRegression"
            ],
            "text/html": [
              "<div style=\"max-width:800px; border: 1px solid var(--colab-border-color);\"><style>\n",
              "      pre.function-repr-contents {\n",
              "        overflow-x: auto;\n",
              "        padding: 8px 12px;\n",
              "        max-height: 500px;\n",
              "      }\n",
              "\n",
              "      pre.function-repr-contents.function-repr-contents-collapsed {\n",
              "        cursor: pointer;\n",
              "        max-height: 100px;\n",
              "      }\n",
              "    </style>\n",
              "    <pre style=\"white-space: initial; background:\n",
              "         var(--colab-secondary-surface-color); padding: 8px 12px;\n",
              "         border-bottom: 1px solid var(--colab-border-color);\"><b>sklearn.linear_model._base.LinearRegression</b><br/>def __init__(*, fit_intercept=True, copy_X=True, n_jobs=None, positive=False)</pre><pre class=\"function-repr-contents function-repr-contents-collapsed\" style=\"\"><a class=\"filepath\" style=\"display:none\" href=\"#\">/usr/local/lib/python3.10/dist-packages/sklearn/linear_model/_base.py</a>Ordinary least squares Linear Regression.\n",
              "\n",
              "LinearRegression fits a linear model with coefficients w = (w1, ..., wp)\n",
              "to minimize the residual sum of squares between the observed targets in\n",
              "the dataset, and the targets predicted by the linear approximation.\n",
              "\n",
              "Parameters\n",
              "----------\n",
              "fit_intercept : bool, default=True\n",
              "    Whether to calculate the intercept for this model. If set\n",
              "    to False, no intercept will be used in calculations\n",
              "    (i.e. data is expected to be centered).\n",
              "\n",
              "copy_X : bool, default=True\n",
              "    If True, X will be copied; else, it may be overwritten.\n",
              "\n",
              "n_jobs : int, default=None\n",
              "    The number of jobs to use for the computation. This will only provide\n",
              "    speedup in case of sufficiently large problems, that is if firstly\n",
              "    `n_targets &gt; 1` and secondly `X` is sparse or if `positive` is set\n",
              "    to `True`. ``None`` means 1 unless in a\n",
              "    :obj:`joblib.parallel_backend` context. ``-1`` means using all\n",
              "    processors. See :term:`Glossary &lt;n_jobs&gt;` for more details.\n",
              "\n",
              "positive : bool, default=False\n",
              "    When set to ``True``, forces the coefficients to be positive. This\n",
              "    option is only supported for dense arrays.\n",
              "\n",
              "    .. versionadded:: 0.24\n",
              "\n",
              "Attributes\n",
              "----------\n",
              "coef_ : array of shape (n_features, ) or (n_targets, n_features)\n",
              "    Estimated coefficients for the linear regression problem.\n",
              "    If multiple targets are passed during the fit (y 2D), this\n",
              "    is a 2D array of shape (n_targets, n_features), while if only\n",
              "    one target is passed, this is a 1D array of length n_features.\n",
              "\n",
              "rank_ : int\n",
              "    Rank of matrix `X`. Only available when `X` is dense.\n",
              "\n",
              "singular_ : array of shape (min(X, y),)\n",
              "    Singular values of `X`. Only available when `X` is dense.\n",
              "\n",
              "intercept_ : float or array of shape (n_targets,)\n",
              "    Independent term in the linear model. Set to 0.0 if\n",
              "    `fit_intercept = False`.\n",
              "\n",
              "n_features_in_ : int\n",
              "    Number of features seen during :term:`fit`.\n",
              "\n",
              "    .. versionadded:: 0.24\n",
              "\n",
              "feature_names_in_ : ndarray of shape (`n_features_in_`,)\n",
              "    Names of features seen during :term:`fit`. Defined only when `X`\n",
              "    has feature names that are all strings.\n",
              "\n",
              "    .. versionadded:: 1.0\n",
              "\n",
              "See Also\n",
              "--------\n",
              "Ridge : Ridge regression addresses some of the\n",
              "    problems of Ordinary Least Squares by imposing a penalty on the\n",
              "    size of the coefficients with l2 regularization.\n",
              "Lasso : The Lasso is a linear model that estimates\n",
              "    sparse coefficients with l1 regularization.\n",
              "ElasticNet : Elastic-Net is a linear regression\n",
              "    model trained with both l1 and l2 -norm regularization of the\n",
              "    coefficients.\n",
              "\n",
              "Notes\n",
              "-----\n",
              "From the implementation point of view, this is just plain Ordinary\n",
              "Least Squares (scipy.linalg.lstsq) or Non Negative Least Squares\n",
              "(scipy.optimize.nnls) wrapped as a predictor object.\n",
              "\n",
              "Examples\n",
              "--------\n",
              "&gt;&gt;&gt; import numpy as np\n",
              "&gt;&gt;&gt; from sklearn.linear_model import LinearRegression\n",
              "&gt;&gt;&gt; X = np.array([[1, 1], [1, 2], [2, 2], [2, 3]])\n",
              "&gt;&gt;&gt; # y = 1 * x_0 + 2 * x_1 + 3\n",
              "&gt;&gt;&gt; y = np.dot(X, np.array([1, 2])) + 3\n",
              "&gt;&gt;&gt; reg = LinearRegression().fit(X, y)\n",
              "&gt;&gt;&gt; reg.score(X, y)\n",
              "1.0\n",
              "&gt;&gt;&gt; reg.coef_\n",
              "array([1., 2.])\n",
              "&gt;&gt;&gt; reg.intercept_\n",
              "np.float64(3.0...)\n",
              "&gt;&gt;&gt; reg.predict(np.array([[3, 5]]))\n",
              "array([16.])</pre>\n",
              "      <script>\n",
              "      if (google.colab.kernel.accessAllowed && google.colab.files && google.colab.files.view) {\n",
              "        for (const element of document.querySelectorAll('.filepath')) {\n",
              "          element.style.display = 'block'\n",
              "          element.onclick = (event) => {\n",
              "            event.preventDefault();\n",
              "            event.stopPropagation();\n",
              "            google.colab.files.view(element.textContent, 457);\n",
              "          };\n",
              "        }\n",
              "      }\n",
              "      for (const element of document.querySelectorAll('.function-repr-contents')) {\n",
              "        element.onclick = (event) => {\n",
              "          event.preventDefault();\n",
              "          event.stopPropagation();\n",
              "          element.classList.toggle('function-repr-contents-collapsed');\n",
              "        };\n",
              "      }\n",
              "      </script>\n",
              "      </div>"
            ]
          },
          "metadata": {},
          "execution_count": 45
        }
      ]
    },
    {
      "cell_type": "code",
      "source": [
        "X_test[0]"
      ],
      "metadata": {
        "colab": {
          "base_uri": "https://localhost:8080/"
        },
        "id": "s7BYXr-6vAwl",
        "outputId": "e1833f3f-bee0-48de-b338-a38224b7c79c"
      },
      "execution_count": 46,
      "outputs": [
        {
          "output_type": "execute_result",
          "data": {
            "text/plain": [
              "8.58"
            ]
          },
          "metadata": {},
          "execution_count": 46
        }
      ]
    },
    {
      "cell_type": "code",
      "source": [
        "X_test.reshape(1,-1)"
      ],
      "metadata": {
        "colab": {
          "base_uri": "https://localhost:8080/"
        },
        "id": "5CmIJpp6vAsk",
        "outputId": "9a6edb56-14e4-4c85-8e95-583d7f4f0842"
      },
      "execution_count": 47,
      "outputs": [
        {
          "output_type": "execute_result",
          "data": {
            "text/plain": [
              "array([[8.58, 7.15, 5.88, 6.22, 4.57, 4.79, 5.32, 6.86, 8.35, 6.87, 8.94,\n",
              "        7.9 , 6.93, 5.91, 7.32, 7.82, 5.09, 7.42, 6.94, 7.73, 6.19, 7.28,\n",
              "        6.73, 7.2 , 8.21, 6.75, 7.87, 7.6 , 8.63, 5.12, 8.15, 7.36, 8.31,\n",
              "        6.6 , 6.59, 7.47, 7.93, 6.29, 6.37, 6.47]])"
            ]
          },
          "metadata": {},
          "execution_count": 47
        }
      ]
    },
    {
      "cell_type": "code",
      "source": [
        "y_test.reshape(1,-1)"
      ],
      "metadata": {
        "colab": {
          "base_uri": "https://localhost:8080/"
        },
        "id": "TLTodp_vvAo4",
        "outputId": "27fc66c5-d153-4f4d-bd14-280988578ffa"
      },
      "execution_count": 48,
      "outputs": [
        {
          "output_type": "execute_result",
          "data": {
            "text/plain": [
              "array([[4.1 , 3.49, 2.08, 2.33, 1.94, 1.48, 1.86, 3.09, 4.21, 2.87, 3.65,\n",
              "        4.  , 2.89, 2.6 , 2.99, 3.25, 1.86, 3.67, 2.37, 3.42, 2.48, 3.65,\n",
              "        2.6 , 2.83, 4.08, 2.56, 3.58, 3.81, 4.09, 2.01, 3.63, 2.92, 3.51,\n",
              "        1.94, 2.21, 3.34, 3.34, 3.23, 2.01, 2.61]])"
            ]
          },
          "metadata": {},
          "execution_count": 48
        }
      ]
    },
    {
      "cell_type": "code",
      "source": [
        "lr.predict(X_test[0].reshape(1,-1))"
      ],
      "metadata": {
        "colab": {
          "base_uri": "https://localhost:8080/"
        },
        "id": "HNN3GkKOuTYF",
        "outputId": "9ef1a586-460d-40f0-8ac4-3deefdd9ad45"
      },
      "execution_count": 49,
      "outputs": [
        {
          "output_type": "execute_result",
          "data": {
            "text/plain": [
              "array([3.89111601])"
            ]
          },
          "metadata": {},
          "execution_count": 49
        }
      ]
    },
    {
      "cell_type": "code",
      "source": [
        "m=lr.coef_\n",
        "b=lr.intercept_"
      ],
      "metadata": {
        "id": "qyybHbn0v_1N"
      },
      "execution_count": 51,
      "outputs": []
    },
    {
      "cell_type": "code",
      "source": [
        "m*8.58+b #checking with formula"
      ],
      "metadata": {
        "colab": {
          "base_uri": "https://localhost:8080/"
        },
        "id": "Sxx99kVvv_5H",
        "outputId": "ea6e7409-912a-42f8-b34e-c5a83a37731e"
      },
      "execution_count": 52,
      "outputs": [
        {
          "output_type": "execute_result",
          "data": {
            "text/plain": [
              "array([3.89111601])"
            ]
          },
          "metadata": {},
          "execution_count": 52
        }
      ]
    }
  ]
}